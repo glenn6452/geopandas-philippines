{
 "cells": [
  {
   "cell_type": "markdown",
   "metadata": {},
   "source": [
    "# Introduction to geospatial vector data in Python"
   ]
  },
  {
   "cell_type": "code",
   "execution_count": 51,
   "metadata": {},
   "outputs": [],
   "source": [
    "%matplotlib inline\n",
    "\n",
    "import pandas as pd\n",
    "import geopandas\n"
   ]
  },
  {
   "cell_type": "markdown",
   "metadata": {},
   "source": [
    "## Importing geospatial data"
   ]
  },
  {
   "cell_type": "markdown",
   "metadata": {},
   "source": [
    "Geospatial data is often available from specific GIS file formats or data stores, like ESRI shapefiles, GeoJSON files, geopackage files, PostGIS (PostgreSQL) database, ...\n",
    "\n",
    "We can use the GeoPandas library to read many of those GIS file formats (relying on the `fiona` library under the hood, which is an interface to GDAL/OGR), using the `geopandas.read_file` function.\n",
    "\n",
    "For example, let's start by reading a shapefile with all the countries of the world (adapted from http://www.naturalearthdata.com/downloads/110m-cultural-vectors/110m-admin-0-countries/, zip file is available in the `/data` directory), and inspect the data:"
   ]
  },
  {
   "cell_type": "code",
   "execution_count": 13,
   "metadata": {},
   "outputs": [
    {
     "data": {
      "text/html": [
       "<div>\n",
       "<style scoped>\n",
       "    .dataframe tbody tr th:only-of-type {\n",
       "        vertical-align: middle;\n",
       "    }\n",
       "\n",
       "    .dataframe tbody tr th {\n",
       "        vertical-align: top;\n",
       "    }\n",
       "\n",
       "    .dataframe thead th {\n",
       "        text-align: right;\n",
       "    }\n",
       "</style>\n",
       "<table border=\"1\" class=\"dataframe\">\n",
       "  <thead>\n",
       "    <tr style=\"text-align: right;\">\n",
       "      <th></th>\n",
       "      <th>Origin Movement ID</th>\n",
       "      <th>Origin Display Name</th>\n",
       "      <th>Origin Geometry</th>\n",
       "      <th>Destination Movement ID</th>\n",
       "      <th>Destination Display Name</th>\n",
       "      <th>Destination Geometry</th>\n",
       "      <th>Date Range</th>\n",
       "      <th>Mean Travel Time (Seconds)</th>\n",
       "      <th>Range - Lower Bound Travel Time (Seconds)</th>\n",
       "      <th>Range - Upper Bound Travel Time (Seconds)</th>\n",
       "      <th>geometry</th>\n",
       "    </tr>\n",
       "  </thead>\n",
       "  <tbody>\n",
       "    <tr>\n",
       "      <th>0</th>\n",
       "      <td>378</td>\n",
       "      <td>1100 Perez Street, Paco, Manila</td>\n",
       "      <td>[[120.98618950630247,14.582680285017354],[120....</td>\n",
       "      <td>5</td>\n",
       "      <td>300 Younger Street, 132 Zone 11, Manila</td>\n",
       "      <td>[[120.96425065147635,14.629335940778429],[120....</td>\n",
       "      <td>07/31/2016 - 08/28/2016, Every day, Daily Average</td>\n",
       "      <td>2465</td>\n",
       "      <td>1703</td>\n",
       "      <td>3567</td>\n",
       "      <td>None</td>\n",
       "    </tr>\n",
       "    <tr>\n",
       "      <th>1</th>\n",
       "      <td>378</td>\n",
       "      <td>1100 Perez Street, Paco, Manila</td>\n",
       "      <td>[[120.98618950630247,14.582680285017354],[120....</td>\n",
       "      <td>6</td>\n",
       "      <td>100 Pag-asa Street, Tondo, Manila</td>\n",
       "      <td>[[120.96938794800131,14.63162252804203],[120.9...</td>\n",
       "      <td>07/31/2016 - 08/28/2016, Every day, Daily Average</td>\n",
       "      <td>1927</td>\n",
       "      <td>1356</td>\n",
       "      <td>2737</td>\n",
       "      <td>None</td>\n",
       "    </tr>\n",
       "    <tr>\n",
       "      <th>2</th>\n",
       "      <td>378</td>\n",
       "      <td>1100 Perez Street, Paco, Manila</td>\n",
       "      <td>[[120.98618950630247,14.582680285017354],[120....</td>\n",
       "      <td>8</td>\n",
       "      <td>0 A. Bonifacio Avenue, La Loma, Quezon City</td>\n",
       "      <td>[[120.9891320899784,14.635280798175126],[120.9...</td>\n",
       "      <td>07/31/2016 - 08/28/2016, Every day, Daily Average</td>\n",
       "      <td>1796</td>\n",
       "      <td>1148</td>\n",
       "      <td>2809</td>\n",
       "      <td>None</td>\n",
       "    </tr>\n",
       "    <tr>\n",
       "      <th>3</th>\n",
       "      <td>378</td>\n",
       "      <td>1100 Perez Street, Paco, Manila</td>\n",
       "      <td>[[120.98618950630247,14.582680285017354],[120....</td>\n",
       "      <td>9</td>\n",
       "      <td>100 Sct M Alcaraz, Quezon City</td>\n",
       "      <td>[[121.00374091211047,14.63665178989192],[121.0...</td>\n",
       "      <td>07/31/2016 - 08/28/2016, Every day, Daily Average</td>\n",
       "      <td>2376</td>\n",
       "      <td>1650</td>\n",
       "      <td>3421</td>\n",
       "      <td>None</td>\n",
       "    </tr>\n",
       "    <tr>\n",
       "      <th>4</th>\n",
       "      <td>378</td>\n",
       "      <td>1100 Perez Street, Paco, Manila</td>\n",
       "      <td>[[120.98618950630247,14.582680285017354],[120....</td>\n",
       "      <td>10</td>\n",
       "      <td>0 Caragay, San Francisco del Monte, Quezon City</td>\n",
       "      <td>[[121.0088805205489,14.638938077149055],[121.0...</td>\n",
       "      <td>07/31/2016 - 08/28/2016, Every day, Daily Average</td>\n",
       "      <td>2553</td>\n",
       "      <td>1748</td>\n",
       "      <td>3728</td>\n",
       "      <td>None</td>\n",
       "    </tr>\n",
       "    <tr>\n",
       "      <th>...</th>\n",
       "      <td>...</td>\n",
       "      <td>...</td>\n",
       "      <td>...</td>\n",
       "      <td>...</td>\n",
       "      <td>...</td>\n",
       "      <td>...</td>\n",
       "      <td>...</td>\n",
       "      <td>...</td>\n",
       "      <td>...</td>\n",
       "      <td>...</td>\n",
       "      <td>...</td>\n",
       "    </tr>\n",
       "    <tr>\n",
       "      <th>472</th>\n",
       "      <td>378</td>\n",
       "      <td>1100 Perez Street, Paco, Manila</td>\n",
       "      <td>[[120.98618950630247,14.582680285017354],[120....</td>\n",
       "      <td>830</td>\n",
       "      <td>D. Castaneda, Diliman, Lungsod Quezon</td>\n",
       "      <td>[[121.06300844035462,14.647618113798147],[121....</td>\n",
       "      <td>07/31/2016 - 08/28/2016, Every day, Daily Average</td>\n",
       "      <td>3322</td>\n",
       "      <td>2343</td>\n",
       "      <td>4708</td>\n",
       "      <td>None</td>\n",
       "    </tr>\n",
       "    <tr>\n",
       "      <th>473</th>\n",
       "      <td>378</td>\n",
       "      <td>1100 Perez Street, Paco, Manila</td>\n",
       "      <td>[[120.98618950630247,14.582680285017354],[120....</td>\n",
       "      <td>832</td>\n",
       "      <td>0 General Malvar Street, Marikina</td>\n",
       "      <td>[[121.08982211861984,14.63388201570869],[121.0...</td>\n",
       "      <td>07/31/2016 - 08/28/2016, Every day, Daily Average</td>\n",
       "      <td>4295</td>\n",
       "      <td>2895</td>\n",
       "      <td>6371</td>\n",
       "      <td>None</td>\n",
       "    </tr>\n",
       "    <tr>\n",
       "      <th>474</th>\n",
       "      <td>378</td>\n",
       "      <td>1100 Perez Street, Paco, Manila</td>\n",
       "      <td>[[120.98618950630247,14.582680285017354],[120....</td>\n",
       "      <td>833</td>\n",
       "      <td>0 Lopez Jaena Street, Marikina</td>\n",
       "      <td>[[121.08548769096721,14.637086975541163],[121....</td>\n",
       "      <td>07/31/2016 - 08/28/2016, Every day, Daily Average</td>\n",
       "      <td>4186</td>\n",
       "      <td>2910</td>\n",
       "      <td>6020</td>\n",
       "      <td>None</td>\n",
       "    </tr>\n",
       "    <tr>\n",
       "      <th>475</th>\n",
       "      <td>378</td>\n",
       "      <td>1100 Perez Street, Paco, Manila</td>\n",
       "      <td>[[120.98618950630247,14.582680285017354],[120....</td>\n",
       "      <td>836</td>\n",
       "      <td>Ibanag Street, Quezon City</td>\n",
       "      <td>[[121.07248532597971,14.646700133761792],[121....</td>\n",
       "      <td>07/31/2016 - 08/28/2016, Every day, Daily Average</td>\n",
       "      <td>3654</td>\n",
       "      <td>2518</td>\n",
       "      <td>5301</td>\n",
       "      <td>None</td>\n",
       "    </tr>\n",
       "    <tr>\n",
       "      <th>476</th>\n",
       "      <td>378</td>\n",
       "      <td>1100 Perez Street, Paco, Manila</td>\n",
       "      <td>[[120.98618950630247,14.582680285017354],[120....</td>\n",
       "      <td>837</td>\n",
       "      <td>0 Sumulong, Marikina</td>\n",
       "      <td>[[121.09496660613814,14.636167401768766],[121....</td>\n",
       "      <td>07/31/2016 - 08/28/2016, Every day, Daily Average</td>\n",
       "      <td>4365</td>\n",
       "      <td>2936</td>\n",
       "      <td>6488</td>\n",
       "      <td>None</td>\n",
       "    </tr>\n",
       "  </tbody>\n",
       "</table>\n",
       "<p>477 rows × 11 columns</p>\n",
       "</div>"
      ],
      "text/plain": [
       "    Origin Movement ID              Origin Display Name  \\\n",
       "0                  378  1100 Perez Street, Paco, Manila   \n",
       "1                  378  1100 Perez Street, Paco, Manila   \n",
       "2                  378  1100 Perez Street, Paco, Manila   \n",
       "3                  378  1100 Perez Street, Paco, Manila   \n",
       "4                  378  1100 Perez Street, Paco, Manila   \n",
       "..                 ...                              ...   \n",
       "472                378  1100 Perez Street, Paco, Manila   \n",
       "473                378  1100 Perez Street, Paco, Manila   \n",
       "474                378  1100 Perez Street, Paco, Manila   \n",
       "475                378  1100 Perez Street, Paco, Manila   \n",
       "476                378  1100 Perez Street, Paco, Manila   \n",
       "\n",
       "                                       Origin Geometry  \\\n",
       "0    [[120.98618950630247,14.582680285017354],[120....   \n",
       "1    [[120.98618950630247,14.582680285017354],[120....   \n",
       "2    [[120.98618950630247,14.582680285017354],[120....   \n",
       "3    [[120.98618950630247,14.582680285017354],[120....   \n",
       "4    [[120.98618950630247,14.582680285017354],[120....   \n",
       "..                                                 ...   \n",
       "472  [[120.98618950630247,14.582680285017354],[120....   \n",
       "473  [[120.98618950630247,14.582680285017354],[120....   \n",
       "474  [[120.98618950630247,14.582680285017354],[120....   \n",
       "475  [[120.98618950630247,14.582680285017354],[120....   \n",
       "476  [[120.98618950630247,14.582680285017354],[120....   \n",
       "\n",
       "    Destination Movement ID                         Destination Display Name  \\\n",
       "0                         5          300 Younger Street, 132 Zone 11, Manila   \n",
       "1                         6                100 Pag-asa Street, Tondo, Manila   \n",
       "2                         8      0 A. Bonifacio Avenue, La Loma, Quezon City   \n",
       "3                         9                   100 Sct M Alcaraz, Quezon City   \n",
       "4                        10  0 Caragay, San Francisco del Monte, Quezon City   \n",
       "..                      ...                                              ...   \n",
       "472                     830            D. Castaneda, Diliman, Lungsod Quezon   \n",
       "473                     832                0 General Malvar Street, Marikina   \n",
       "474                     833                   0 Lopez Jaena Street, Marikina   \n",
       "475                     836                       Ibanag Street, Quezon City   \n",
       "476                     837                             0 Sumulong, Marikina   \n",
       "\n",
       "                                  Destination Geometry  \\\n",
       "0    [[120.96425065147635,14.629335940778429],[120....   \n",
       "1    [[120.96938794800131,14.63162252804203],[120.9...   \n",
       "2    [[120.9891320899784,14.635280798175126],[120.9...   \n",
       "3    [[121.00374091211047,14.63665178989192],[121.0...   \n",
       "4    [[121.0088805205489,14.638938077149055],[121.0...   \n",
       "..                                                 ...   \n",
       "472  [[121.06300844035462,14.647618113798147],[121....   \n",
       "473  [[121.08982211861984,14.63388201570869],[121.0...   \n",
       "474  [[121.08548769096721,14.637086975541163],[121....   \n",
       "475  [[121.07248532597971,14.646700133761792],[121....   \n",
       "476  [[121.09496660613814,14.636167401768766],[121....   \n",
       "\n",
       "                                            Date Range  \\\n",
       "0    07/31/2016 - 08/28/2016, Every day, Daily Average   \n",
       "1    07/31/2016 - 08/28/2016, Every day, Daily Average   \n",
       "2    07/31/2016 - 08/28/2016, Every day, Daily Average   \n",
       "3    07/31/2016 - 08/28/2016, Every day, Daily Average   \n",
       "4    07/31/2016 - 08/28/2016, Every day, Daily Average   \n",
       "..                                                 ...   \n",
       "472  07/31/2016 - 08/28/2016, Every day, Daily Average   \n",
       "473  07/31/2016 - 08/28/2016, Every day, Daily Average   \n",
       "474  07/31/2016 - 08/28/2016, Every day, Daily Average   \n",
       "475  07/31/2016 - 08/28/2016, Every day, Daily Average   \n",
       "476  07/31/2016 - 08/28/2016, Every day, Daily Average   \n",
       "\n",
       "    Mean Travel Time (Seconds) Range - Lower Bound Travel Time (Seconds)  \\\n",
       "0                         2465                                      1703   \n",
       "1                         1927                                      1356   \n",
       "2                         1796                                      1148   \n",
       "3                         2376                                      1650   \n",
       "4                         2553                                      1748   \n",
       "..                         ...                                       ...   \n",
       "472                       3322                                      2343   \n",
       "473                       4295                                      2895   \n",
       "474                       4186                                      2910   \n",
       "475                       3654                                      2518   \n",
       "476                       4365                                      2936   \n",
       "\n",
       "    Range - Upper Bound Travel Time (Seconds) geometry  \n",
       "0                                        3567     None  \n",
       "1                                        2737     None  \n",
       "2                                        2809     None  \n",
       "3                                        3421     None  \n",
       "4                                        3728     None  \n",
       "..                                        ...      ...  \n",
       "472                                      4708     None  \n",
       "473                                      6371     None  \n",
       "474                                      6020     None  \n",
       "475                                      5301     None  \n",
       "476                                      6488     None  \n",
       "\n",
       "[477 rows x 11 columns]"
      ]
     },
     "execution_count": 13,
     "metadata": {},
     "output_type": "execute_result"
    }
   ],
   "source": [
    "province = geopandas.read_file(\"data/CashaCart.shp\")\n",
    "# or if the archive is unpacked:\n",
    "# countries = geopandas.read_file(\"data/ne_110m_admin_0_countries/ne_110m_admin_0_countries.shp\")\n",
    "df = pd.read_csv('data/Travel_Times - Manila.csv')\n",
    "travel = geopandas.read_file(\"data/Travel_Times - Manila.csv\")\n",
    "travel"
   ]
  },
  {
   "cell_type": "code",
   "execution_count": 7,
   "metadata": {
    "scrolled": true
   },
   "outputs": [
    {
     "data": {
      "text/html": [
       "<div>\n",
       "<style scoped>\n",
       "    .dataframe tbody tr th:only-of-type {\n",
       "        vertical-align: middle;\n",
       "    }\n",
       "\n",
       "    .dataframe tbody tr th {\n",
       "        vertical-align: top;\n",
       "    }\n",
       "\n",
       "    .dataframe thead th {\n",
       "        text-align: right;\n",
       "    }\n",
       "</style>\n",
       "<table border=\"1\" class=\"dataframe\">\n",
       "  <thead>\n",
       "    <tr style=\"text-align: right;\">\n",
       "      <th></th>\n",
       "      <th>id</th>\n",
       "      <th>Signed</th>\n",
       "      <th>Apps</th>\n",
       "      <th>Province</th>\n",
       "      <th>geometry</th>\n",
       "    </tr>\n",
       "  </thead>\n",
       "  <tbody>\n",
       "    <tr>\n",
       "      <th>0</th>\n",
       "      <td>1</td>\n",
       "      <td>NaN</td>\n",
       "      <td>NaN</td>\n",
       "      <td>Abra</td>\n",
       "      <td>POLYGON ((120.9679489135743 17.95705986022955,...</td>\n",
       "    </tr>\n",
       "    <tr>\n",
       "      <th>1</th>\n",
       "      <td>2</td>\n",
       "      <td>NaN</td>\n",
       "      <td>NaN</td>\n",
       "      <td>Agusan del Norte</td>\n",
       "      <td>POLYGON ((125.5772399902345 9.456789970397892,...</td>\n",
       "    </tr>\n",
       "    <tr>\n",
       "      <th>2</th>\n",
       "      <td>3</td>\n",
       "      <td>NaN</td>\n",
       "      <td>NaN</td>\n",
       "      <td>Agusan del Sur</td>\n",
       "      <td>POLYGON ((125.9108734130859 8.856249809265194,...</td>\n",
       "    </tr>\n",
       "    <tr>\n",
       "      <th>3</th>\n",
       "      <td>4</td>\n",
       "      <td>NaN</td>\n",
       "      <td>NaN</td>\n",
       "      <td>Aklan</td>\n",
       "      <td>(POLYGON ((122.4366683959961 11.59832954406733...</td>\n",
       "    </tr>\n",
       "    <tr>\n",
       "      <th>4</th>\n",
       "      <td>5</td>\n",
       "      <td>NaN</td>\n",
       "      <td>NaN</td>\n",
       "      <td>Albay</td>\n",
       "      <td>(POLYGON ((123.2876434326172 13.04922962188726...</td>\n",
       "    </tr>\n",
       "    <tr>\n",
       "      <th>...</th>\n",
       "      <td>...</td>\n",
       "      <td>...</td>\n",
       "      <td>...</td>\n",
       "      <td>...</td>\n",
       "      <td>...</td>\n",
       "    </tr>\n",
       "    <tr>\n",
       "      <th>45</th>\n",
       "      <td>46</td>\n",
       "      <td>NaN</td>\n",
       "      <td>NaN</td>\n",
       "      <td>Masbate</td>\n",
       "      <td>(POLYGON ((122.9841690063478 11.7105598449707,...</td>\n",
       "    </tr>\n",
       "    <tr>\n",
       "      <th>46</th>\n",
       "      <td>47</td>\n",
       "      <td>7514.0</td>\n",
       "      <td>14883.0</td>\n",
       "      <td>Metropolitan Manila</td>\n",
       "      <td>(POLYGON ((120.9797210693364 14.49305534362793...</td>\n",
       "    </tr>\n",
       "    <tr>\n",
       "      <th>47</th>\n",
       "      <td>48</td>\n",
       "      <td>NaN</td>\n",
       "      <td>NaN</td>\n",
       "      <td>Misamis Occidental</td>\n",
       "      <td>(POLYGON ((123.777236938477 8.065179824829102,...</td>\n",
       "    </tr>\n",
       "    <tr>\n",
       "      <th>48</th>\n",
       "      <td>49</td>\n",
       "      <td>NaN</td>\n",
       "      <td>NaN</td>\n",
       "      <td>Misamis Oriental</td>\n",
       "      <td>(POLYGON ((124.6444931030276 8.492520332336426...</td>\n",
       "    </tr>\n",
       "    <tr>\n",
       "      <th>49</th>\n",
       "      <td>50</td>\n",
       "      <td>NaN</td>\n",
       "      <td>NaN</td>\n",
       "      <td>Mountain Province</td>\n",
       "      <td>POLYGON ((121.5547027587891 17.16893959045404,...</td>\n",
       "    </tr>\n",
       "  </tbody>\n",
       "</table>\n",
       "<p>50 rows × 5 columns</p>\n",
       "</div>"
      ],
      "text/plain": [
       "    id  Signed     Apps             Province  \\\n",
       "0    1     NaN      NaN                 Abra   \n",
       "1    2     NaN      NaN     Agusan del Norte   \n",
       "2    3     NaN      NaN       Agusan del Sur   \n",
       "3    4     NaN      NaN                Aklan   \n",
       "4    5     NaN      NaN                Albay   \n",
       "..  ..     ...      ...                  ...   \n",
       "45  46     NaN      NaN              Masbate   \n",
       "46  47  7514.0  14883.0  Metropolitan Manila   \n",
       "47  48     NaN      NaN   Misamis Occidental   \n",
       "48  49     NaN      NaN     Misamis Oriental   \n",
       "49  50     NaN      NaN    Mountain Province   \n",
       "\n",
       "                                             geometry  \n",
       "0   POLYGON ((120.9679489135743 17.95705986022955,...  \n",
       "1   POLYGON ((125.5772399902345 9.456789970397892,...  \n",
       "2   POLYGON ((125.9108734130859 8.856249809265194,...  \n",
       "3   (POLYGON ((122.4366683959961 11.59832954406733...  \n",
       "4   (POLYGON ((123.2876434326172 13.04922962188726...  \n",
       "..                                                ...  \n",
       "45  (POLYGON ((122.9841690063478 11.7105598449707,...  \n",
       "46  (POLYGON ((120.9797210693364 14.49305534362793...  \n",
       "47  (POLYGON ((123.777236938477 8.065179824829102,...  \n",
       "48  (POLYGON ((124.6444931030276 8.492520332336426...  \n",
       "49  POLYGON ((121.5547027587891 17.16893959045404,...  \n",
       "\n",
       "[50 rows x 5 columns]"
      ]
     },
     "execution_count": 7,
     "metadata": {},
     "output_type": "execute_result"
    }
   ],
   "source": [
    "province.head(50)"
   ]
  },
  {
   "cell_type": "code",
   "execution_count": 8,
   "metadata": {},
   "outputs": [
    {
     "data": {
      "text/plain": [
       "<matplotlib.axes._subplots.AxesSubplot at 0x1649f68ee48>"
      ]
     },
     "execution_count": 8,
     "metadata": {},
     "output_type": "execute_result"
    },
    {
     "data": {
      "image/png": "[encoded data removed]",
      "text/plain": [
       "<Figure size 432x288 with 1 Axes>"
      ]
     },
     "metadata": {
      "needs_background": "light"
     },
     "output_type": "display_data"
    }
   ],
   "source": [
    "province.plot()"
   ]
  },
  {
   "cell_type": "markdown",
   "metadata": {},
   "source": [
    "What can we observe:\n",
    "\n",
    "- Using `.head()` we can see the first rows of the dataset, just like we can do with Pandas.\n",
    "- There is a 'geometry' column and the different countries are represented as polygons\n",
    "- We can use the `.plot()` method to quickly get a *basic* visualization of the data"
   ]
  },
  {
   "cell_type": "markdown",
   "metadata": {},
   "source": [
    "## What's a GeoDataFrame?\n",
    "\n",
    "We used the GeoPandas library to read in the geospatial data, and this returned us a `GeoDataFrame`:"
   ]
  },
  {
   "cell_type": "code",
   "execution_count": 9,
   "metadata": {},
   "outputs": [
    {
     "data": {
      "text/plain": [
       "geopandas.geodataframe.GeoDataFrame"
      ]
     },
     "execution_count": 9,
     "metadata": {},
     "output_type": "execute_result"
    }
   ],
   "source": [
    "type(province)"
   ]
  },
  {
   "cell_type": "markdown",
   "metadata": {},
   "source": [
    "A GeoDataFrame contains a tabular, geospatial dataset:\n",
    "\n",
    "* It has a **'geometry' column** that holds the geometry information (or features in GeoJSON).\n",
    "* The other columns are the **attributes** (or properties in GeoJSON) that describe each of the geometries\n",
    "\n",
    "Such a `GeoDataFrame` is just like a pandas `DataFrame`, but with some additional functionality for working with geospatial data:\n",
    "\n",
    "* A `.geometry` attribute that always returns the column with the geometry information (returning a GeoSeries). The column name itself does not necessarily need to be 'geometry', but it will always be accessible as the `.geometry` attribute.\n",
    "* It has some extra methods for working with spatial data (area, distance, buffer, intersection, ...), which we will see in later notebooks"
   ]
  },
  {
   "cell_type": "code",
   "execution_count": 10,
   "metadata": {},
   "outputs": [
    {
     "data": {
      "text/plain": [
       "0     POLYGON ((120.9679489135743 17.95705986022955,...\n",
       "1     POLYGON ((125.5772399902345 9.456789970397892,...\n",
       "2     POLYGON ((125.9108734130859 8.856249809265194,...\n",
       "3     (POLYGON ((122.4366683959961 11.59832954406733...\n",
       "4     (POLYGON ((123.2876434326172 13.04922962188726...\n",
       "                            ...                        \n",
       "76    (POLYGON ((119.4669418334961 4.586939811706657...\n",
       "77    (POLYGON ((120.082847595215 14.75047969818121,...\n",
       "78    (POLYGON ((122.0946731567383 7.531519889831486...\n",
       "79    (POLYGON ((122.0622329711914 6.87277984619152,...\n",
       "80    (POLYGON ((122.8406295776367 7.276939868927002...\n",
       "Name: geometry, Length: 81, dtype: object"
      ]
     },
     "execution_count": 10,
     "metadata": {},
     "output_type": "execute_result"
    }
   ],
   "source": [
    "province.geometry"
   ]
  },
  {
   "cell_type": "code",
   "execution_count": 11,
   "metadata": {},
   "outputs": [
    {
     "data": {
      "text/plain": [
       "geopandas.geoseries.GeoSeries"
      ]
     },
     "execution_count": 11,
     "metadata": {},
     "output_type": "execute_result"
    }
   ],
   "source": [
    "type(province.geometry)"
   ]
  },
  {
   "cell_type": "code",
   "execution_count": 12,
   "metadata": {},
   "outputs": [
    {
     "data": {
      "text/plain": [
       "0     0.338042\n",
       "1     0.246035\n",
       "2     0.704798\n",
       "3     0.137959\n",
       "4     0.209616\n",
       "        ...   \n",
       "76    0.096272\n",
       "77    0.307648\n",
       "78    0.524341\n",
       "79    0.433954\n",
       "80    0.222481\n",
       "Length: 81, dtype: float64"
      ]
     },
     "execution_count": 12,
     "metadata": {},
     "output_type": "execute_result"
    }
   ],
   "source": [
    "province.geometry.area"
   ]
  },
  {
   "cell_type": "markdown",
   "metadata": {},
   "source": [
    "**It's still a DataFrame**, so we have all the pandas functionality available to use on the geospatial dataset, and to do data manipulations with the attributes and geometry information together.\n",
    "\n",
    "For example, we can calculate average population number over all countries (by accessing the 'pop_est' column, and calling the `mean` method on it):"
   ]
  },
  {
   "cell_type": "code",
   "execution_count": 14,
   "metadata": {},
   "outputs": [
    {
     "data": {
      "text/plain": [
       "2100.5"
      ]
     },
     "execution_count": 14,
     "metadata": {},
     "output_type": "execute_result"
    }
   ],
   "source": [
    "province['Signed'].mean()"
   ]
  },
  {
   "cell_type": "markdown",
   "metadata": {},
   "source": [
    "Or, we can use boolean filtering to select a subset of the dataframe based on a condition:"
   ]
  },
  {
   "cell_type": "code",
   "execution_count": 66,
   "metadata": {},
   "outputs": [
    {
     "data": {
      "text/plain": [
       "'1'"
      ]
     },
     "execution_count": 66,
     "metadata": {},
     "output_type": "execute_result"
    }
   ],
   "source": [
    "ncr = province[province['Province'] == 'Metropolitan Manila']\n",
    "origin = df[\"Origin Geometry\"].tolist()\n",
    "origin[0][2]\n",
    "#gdf = geopandas.GeoDataFrame(\n",
    "#    df, geometry=geopandas.points_from_xy(df[\"Origin Geomentry\"][], df[\"Destination Geometry\"]))"
   ]
  },
  {
   "cell_type": "code",
   "execution_count": 42,
   "metadata": {},
   "outputs": [
    {
     "data": {
      "text/plain": [
       "<matplotlib.axes._subplots.AxesSubplot at 0x2346f82c320>"
      ]
     },
     "execution_count": 42,
     "metadata": {},
     "output_type": "execute_result"
    },
    {
     "data": {
      "image/png": "[encoded data removed]",
      "text/plain": [
       "<Figure size 1440x1440 with 1 Axes>"
      ]
     },
     "metadata": {
      "needs_background": "light"
     },
     "output_type": "display_data"
    }
   ],
   "source": [
    "ncr.plot(figsize=(20, 20))"
   ]
  },
  {
   "cell_type": "markdown",
   "metadata": {},
   "source": [
    "---\n",
    "\n",
    "The rest of the tutorial is going to assume you already know some pandas basics, but we will try to give hints for that part for those that are not familiar.   \n",
    "A few resources in case you want to learn more about pandas:\n",
    "\n",
    "- Pandas docs: https://pandas.pydata.org/pandas-docs/stable/10min.html\n",
    "- Other tutorials: chapter from pandas in https://jakevdp.github.io/PythonDataScienceHandbook/, https://github.com/jorisvandenbossche/pandas-tutorial, https://github.com/TomAugspurger/pandas-head-to-tail, ..."
   ]
  },
  {
   "cell_type": "markdown",
   "metadata": {},
   "source": [
    "<div class=\"alert alert-info\" style=\"font-size:120%\">\n",
    "<b>REMEMBER</b>: <br>\n",
    "\n",
    "<ul>\n",
    "  <li>A `GeoDataFrame` allows to perform typical tabular data analysis together with spatial operations</li>\n",
    "  <li>A `GeoDataFrame` (or *Feature Collection*) consists of:\n",
    "   <ul>\n",
    "    <li>**Geometries** or **features**: the spatial objects</li>\n",
    "    <li>**Attributes** or **properties**: columns with information about each spatial object</li>\n",
    "   </ul>\n",
    "  </li>\n",
    "</ul>\n",
    "</div>"
   ]
  },
  {
   "cell_type": "markdown",
   "metadata": {},
   "source": [
    "## Geometries: Points, Linestrings and Polygons\n",
    "\n",
    "Spatial **vector** data can consist of different types, and the 3 fundamental types are:\n",
    "\n",
    "* **Point** data: represents a single point in space.\n",
    "* **Line** data (\"LineString\"): represents a sequence of points that form a line.\n",
    "* **Polygon** data: represents a filled area.\n",
    "\n",
    "And each of them can also be combined in multi-part geometries (See https://shapely.readthedocs.io/en/stable/manual.html#geometric-objects for extensive overview)."
   ]
  },
  {
   "cell_type": "markdown",
   "metadata": {},
   "source": [
    "For the example we have seen up to now, the individual geometry objects are Polygons:"
   ]
  },
  {
   "cell_type": "code",
   "execution_count": 21,
   "metadata": {},
   "outputs": [
    {
     "name": "stdout",
     "output_type": "stream",
     "text": [
      "POLYGON ((125.9108734130859 8.856249809265194, 125.9146118164067 8.852109909057617, 125.9279708862306 8.839300155639648, 125.9364929199221 8.830940246582031, 125.9415512084962 8.826270103454704, 125.9472427368165 8.818320274353027, 125.9542236328127 8.801930427551326, 125.9561614990237 8.795769691467342, 125.9563598632815 8.78555965423584, 125.957862854004 8.776849746704102, 125.9649963378907 8.754509925842285, 125.9677429199219 8.747799873352108, 125.9698791503907 8.740260124206543, 125.9742431640625 8.734219551086483, 125.978843688965 8.725930213928279, 125.986213684082 8.714750289916992, 125.9911804199219 8.707719802856559, 125.9972534179689 8.698610305786133, 126.0061416625979 8.687769889831543, 126.0077972412109 8.684459686279354, 126.0118865966801 8.67726993560791, 126.0127029418946 8.675809860229435, 126.0133666992189 8.672929763794002, 126.0163116455079 8.664329528808651, 125.9927368164063 8.648369789123649, 125.9938125610353 8.64231014251709, 125.9981536865239 8.632129669189453, 125.9975662231448 8.627490043640137, 125.9982833862307 8.621450424194279, 125.998176574707 8.618570327758846, 125.9981918334962 8.618220329284725, 125.9984664916992 8.612480163574332, 125.9985122680666 8.610739707946891, 125.9985504150392 8.609339714050407, 125.9991073608403 8.609379768371696, 125.9988708496095 8.596630096435547, 125.9979171752931 8.584620475769043, 125.9996337890626 8.582630157470817, 125.9993896484375 8.577919960022029, 126.0001831054688 8.570070266723633, 126.0045394897461 8.570369720459041, 126.0067825317384 8.570500373840275, 126.0148620605469 8.569419860839787, 126.0249633789063 8.568090438842773, 126.0262298583986 8.562350273132381, 126.0324478149416 8.544739723205623, 126.033760070801 8.541069984436035, 126.0340270996095 8.538379669189567, 126.0367431640628 8.52670955657959, 126.0387496948244 8.519479751587028, 126.0400466918945 8.513509750366211, 126.0408935546876 8.509140014648381, 126.0418624877931 8.499930381775016, 126.0421371459961 8.497989654540959, 126.0419769287111 8.491939544677734, 126.0420379638673 8.487400054931697, 126.0419464111328 8.481989860534668, 126.0422668457032 8.476240158081168, 126.0422286987306 8.467249870300236, 126.0422286987306 8.463850021362418, 126.0564727783204 8.466139793396053, 126.0985870361328 8.468079566955623, 126.1084365844728 8.470190048217717, 126.0970993041993 8.457320213317928, 126.0828933715821 8.44274997711193, 126.0601196289065 8.416649818420524, 126.06909942627 8.405739784240836, 126.0832138061528 8.390749931335563, 126.098487854004 8.379300117492733, 126.1259613037111 8.374480247497559, 126.1432723999026 8.374079704284725, 126.1795883178712 8.36952018737793, 126.1986007690432 8.369139671325684, 126.2335968017578 8.377820014953727, 126.2593231201173 8.374730110168514, 126.2687835693362 8.399120330810604, 126.2796173095705 8.403750419616642, 126.277542114258 8.379599571228141, 126.2763595581055 8.366339683532772, 126.2677764892578 8.340239524841365, 126.2752990722657 8.33306980133068, 126.2850036621096 8.321430206298828, 126.2911071777346 8.31116962432867, 126.2909927368167 8.302969932556152, 126.2907562255861 8.287229537963981, 126.271797180176 8.286870002746525, 126.2621917724613 8.27632999420166, 126.2541427612305 8.266750335693416, 126.2443237304688 8.256259918212947, 126.2325668334965 8.241080284118709, 126.2212371826172 8.229539871215934, 126.2133331298829 8.203559875488395, 126.206916809082 8.177989959716797, 126.2081985473634 8.176170349121094, 126.2328796386719 8.174489974975643, 126.2519073486328 8.156350135803223, 126.2760162353518 8.13418006896984, 126.2939071655273 8.116629600524902, 126.3120422363284 8.116920471191463, 126.3344116210942 8.119489669799805, 126.3601837158204 8.123579978942928, 126.3563766479492 8.11670970916748, 126.3369598388675 8.096670150756893, 126.3248672485354 8.084989547729549, 126.3166503906252 8.078220367431641, 126.3079833984375 8.071060180664063, 126.3001937866211 8.065360069274959, 126.312080383301 8.060660362243766, 126.3230209350587 8.058939933776855, 126.3284683227541 8.05784988403326, 126.3338928222657 8.056759834289608, 126.3443374633794 8.053239822387752, 126.3457717895508 8.051509857177734, 126.3481597900392 8.044819831848088, 126.348258972168 8.031620025634879, 126.3489227294923 8.021539688110352, 126.3495101928711 8.011639595031681, 126.3511734008791 8.000929832458553, 126.3366165161133 8.000470161438045, 126.2750930786137 8.000200271606502, 126.2339172363282 8.0001096725465, 126.184539794922 7.999899864196777, 126.1628799438477 8.000020027160645, 126.1583862304689 7.999740123748893, 126.1539916992189 7.99947023391735, 126.1498565673832 7.998099803924561, 126.1369476318362 7.991519927978572, 126.130989074707 7.98826980590826, 126.1222076416016 7.985479831695557, 126.1124877929688 7.982180118560791, 126.1059570312501 7.977429866790771, 126.0975418090821 7.971439838409538, 126.0839462280276 7.964280128479004, 126.0813522338868 7.961900234222412, 126.076110839844 7.960020065307617, 126.0707321166992 7.957359790802059, 126.0684127807621 7.958960056304932, 126.0672225952148 7.956860065460205, 126.0669708251955 7.955490112304688, 126.0669326782227 7.955269813537541, 126.0670776367191 7.954850196838493, 126.0672531127931 7.953869819641113, 126.0672683715824 7.953770160675049, 126.0672836303711 7.95367002487194, 126.061836242676 7.947720050811824, 126.0565490722657 7.942599773407096, 126.0520935058596 7.936250209808406, 126.0457229614258 7.935039997100773, 126.0423965454106 7.936150074005127, 126.0405273437501 7.936769962310791, 126.0383834838869 7.937860012054443, 126.0331878662112 7.940499782562199, 126.0253677368166 7.944129943847713, 126.0176696777347 7.949190139770451, 126.0108795166018 7.953569889068604, 126.0043869018557 7.958000183105526, 125.9980697631836 7.962530136108455, 125.9935684204106 7.970779895782584, 125.9888381958009 7.98170995712286, 125.9870681762698 7.987569808960018, 125.9862976074221 7.995349884033317, 125.9808197021484 7.998219966888428, 125.9706497192385 7.998320102691707, 125.9653472900395 7.997859954834098, 125.9548110961915 7.996840000152702, 125.9504470825198 7.996970176696891, 125.9425888061526 7.997039794921875, 125.9378128051758 7.997660160064754, 125.9339904785156 7.998300075530949, 125.9295120239258 7.998539924621582, 125.9210205078125 7.998610019683781, 125.9207077026372 7.99862003326416, 125.9128723144534 7.99869012832653, 125.9092330932619 7.998449802398682, 125.9017562866211 7.997940063476676, 125.8947372436526 7.99819993972784, 125.8896636962892 7.998219966888428, 125.8846511840823 7.998239994049129, 125.8784866333008 7.998030185699406, 125.878356933594 7.998030185699406, 125.8724975585939 7.997829914093018, 125.8473892211914 7.997399806976318, 125.8406295776367 7.997610092163086, 125.8349380493165 7.997779846191349, 125.8311462402344 7.997889995575008, 125.8274612426759 7.997990131378117, 125.8161163330078 7.997489929199276, 125.8006286621094 7.995600223541373, 125.7951736450198 7.996079921722412, 125.7885665893556 7.996660232544059, 125.7809677124027 7.996960163116512, 125.7733612060547 7.997260093688965, 125.7669906616212 7.997280120849723, 125.7606964111329 7.997300148010254, 125.7400894165044 7.997049808502197, 125.7266464233398 7.997479915618896, 125.7219467163088 7.998819828033504, 125.7028121948242 7.997379779815788, 125.6827468872074 7.996180057525748, 125.6752395629887 7.99816989898693, 125.3816528320314 7.985549926757926, 125.3822937011719 7.996089935302791, 125.3817367553712 7.998069763183651, 125.3813934326172 7.999559879303035, 125.3823776245117 8.001999855041447, 125.382926940918 8.003549575805607, 125.3833770751955 8.005669593811035, 125.3818435668946 8.007610321044865, 125.3806304931641 8.008500099182072, 125.3795928955083 8.010180473327694, 125.3793716430666 8.011960029602108, 125.3789596557617 8.014289855957088, 125.3779830932617 8.016039848327637, 125.376617431641 8.017499923706112, 125.3753967285161 8.020429611205998, 125.375198364258 8.023119926452694, 125.3753128051758 8.025629997253475, 125.3760070800782 8.027919769287166, 125.3774414062502 8.029549598693904, 125.3785934448244 8.030879974365178, 125.3788299560551 8.032959938049316, 125.3783721923828 8.035269737243709, 125.3797531127932 8.037159919738883, 125.3814773559573 8.038579940795898, 125.3812789916994 8.042229652404899, 125.3785781860352 8.054530143737793, 125.3817825317383 8.057860374450684, 125.3866500854497 8.062399864196891, 125.3870925903321 8.065799713134766, 125.3870697021486 8.068280220031681, 125.3871612548828 8.07334041595459, 125.38786315918 8.077509880065975, 125.3862609863284 8.079039573669434, 125.3836669921878 8.079219818115291, 125.380737304688 8.079210281372127, 125.3777465820314 8.080730438232422, 125.3763427734377 8.084380149841309, 125.375862121582 8.088500022888297, 125.374153137207 8.092120170593262, 125.3719406127932 8.094929695129451, 125.3704376220708 8.095999717712346, 125.3684082031253 8.099909782409611, 125.3675765991215 8.105159759521541, 125.3679962158204 8.106809616088981, 125.3700332641604 8.10945987701416, 125.3716201782228 8.111249923706055, 125.3722763061523 8.113360404968319, 125.3716506958011 8.115670204162711, 125.3696212768557 8.118599891662598, 125.3678207397462 8.123080253601131, 125.3677597045901 8.124839782714844, 125.3684387207031 8.128930091857967, 125.3691024780278 8.131130218505916, 125.3686676025393 8.134140014648551, 125.3683471679692 8.136320114135799, 125.3699722290039 8.140830039978027, 125.3720474243164 8.14274978637701, 125.3727416992189 8.147620201110897, 125.3721771240236 8.152520179748535, 125.3714218139648 8.155110359191895, 125.3701324462894 8.157520294189396, 125.3691024780278 8.160440444946346, 125.3686904907229 8.162429809570313, 125.3683471679692 8.164070129394645, 125.3664321899419 8.167440414428825, 125.3654632568362 8.168780326843262, 125.3638381958011 8.17096042633068, 125.3612594604494 8.174719810485954, 125.3606033325195 8.175780296325684, 125.3593063354492 8.178560256958065, 125.3580169677737 8.181529998779411, 125.3539581298828 8.187470436096191, 125.3532714843755 8.190239906311149, 125.352577209473 8.194439888000545, 125.3525314331056 8.196709632873649, 125.3530883789067 8.201749801635799, 125.3524703979493 8.204730033874569, 125.3527374267579 8.207619667053166, 125.3540573120118 8.210049629211426, 125.3557128906251 8.211779594421444, 125.3566436767578 8.213310241699162, 125.3569335937501 8.213809967041016, 125.3571319580079 8.214940071106071, 125.3571929931641 8.217260360717887, 125.3582992553714 8.219829559326229, 125.3591537475588 8.222040176391658, 125.3594818115234 8.224909782409725, 125.3595123291018 8.227060317993278, 125.3595809936525 8.231229782104492, 125.3606796264651 8.232480049133414, 125.3613967895508 8.233599662780705, 125.3616027832031 8.234009742736816, 125.3624572753906 8.235269546508903, 125.3634872436523 8.236660003662223, 125.3627700805665 8.239060401916618, 125.3610000610352 8.240320205688477, 125.3590621948246 8.242540359497013, 125.358306884766 8.245639801025334, 125.3530273437502 8.247550010681209, 125.3443374633789 8.250699996948242, 125.3440170288086 8.252019882202148, 125.3416595458986 8.256930351257324, 125.3406372070315 8.258480072021484, 125.3400268554688 8.260499954223633, 125.33984375 8.263810157775936, 125.3403396606446 8.266050338745231, 125.3401412963867 8.268679618835563, 125.3383483886721 8.271080017089957, 125.3378372192384 8.271739959716911, 125.3370132446291 8.274180412292594, 125.3358535766602 8.277379989624023, 125.3357162475588 8.278800010681209, 125.3359375000001 8.282500267028922, 125.3355331420903 8.284859657287541, 125.3345031738281 8.28699970245367, 125.3333892822268 8.288979530334529, 125.332931518555 8.291990280151481, 125.3328399658205 8.293499946594352, 125.3325424194337 8.296130180359, 125.3318634033205 8.29862022399908, 125.3309097290041 8.300109863281193, 125.3290328979494 8.300809860229435, 125.3263473510744 8.30072021484375, 125.3223037719727 8.300490379333496, 125.3204421997073 8.300239562988395, 125.3182525634769 8.30078029632574, 125.3151321411137 8.301670074463004, 125.3124618530278 8.302900314331168, 125.3101577758791 8.305890083313102, 125.3092498779298 8.307849884033203, 125.3069076538088 8.312689781188965, 125.3054275512695 8.316080093383846, 125.3033065795903 8.317339897155705, 125.301872253418 8.317959785461369, 125.3008270263676 8.320710182190055, 125.3002166748049 8.323060035705566, 125.3000488281252 8.325650215148926, 125.3003387451172 8.327730178833065, 125.3003997802736 8.329469680786246, 125.299629211426 8.331500053405762, 125.2976837158203 8.333689689636344, 125.2960891723634 8.333700180053768, 125.2942886352541 8.333700180053768, 125.2924118041994 8.334380149841422, 125.2901382446294 8.335249900817928, 125.2867584228517 8.335889816284293, 125.2840499877931 8.336319923400993, 125.2810516357425 8.336359977722282, 125.2778930664064 8.336489677429256, 125.2768173217773 8.338199615478516, 125.276466369629 8.340490341186467, 125.2761764526368 8.34136962890625, 125.2749633789063 8.343879699707088, 125.274269104004 8.345560073852539, 125.2722396850586 8.346890449523983, 125.2711791992188 8.348580360412541, 125.2725372314455 8.351519584655762, 125.2725906372075 8.354040145873967, 125.2717819213869 8.356880187988338, 125.2707824707031 8.357680320739689, 125.2693634033204 8.36028957366949, 125.2690963745117 8.362429618835506, 125.2683181762695 8.364370346069336, 125.2666168212891 8.366330146789608, 125.2641220092773 8.36779975891119, 125.2632980346681 8.368399620056152, 125.2611770629883 8.370490074157715, 125.2601318359375 8.375269889831657, 125.2599792480471 8.377650260925293, 125.2600097656255 8.378580093383789, 125.2607269287111 8.392829895019531, 125.2612762451172 8.400589942932243, 125.2614822387698 8.402660369873047, 125.2618789672854 8.406399726867733, 125.261833190918 8.409449577331657, 125.2609710693361 8.414290428161735, 125.2589416503906 8.417289733886776, 125.2559127807617 8.424900054931754, 125.2539062500005 8.431719779968319, 125.253211975098 8.437040328979492, 125.251708984375 8.442779541015568, 125.2512664794923 8.445309638977108, 125.2502136230469 8.45143985748291, 125.2498092651367 8.453709602356071, 125.2492065429691 8.458100318908691, 125.2488021850587 8.460880279541072, 125.2484817504883 8.464810371399039, 125.2482070922852 8.469019889831543, 125.2481002807617 8.471980094909782, 125.2477188110352 8.476659774780387, 125.2477798461916 8.483139991760311, 125.2472610473634 8.485719680786246, 125.2469024658204 8.487919807434082, 125.2467422485352 8.491230010986385, 125.24658203125 8.495470046997013, 125.2463531494141 8.498990058898926, 125.2463531494141 8.499070167541447, 125.2463378906253 8.499230384826774, 125.2464828491212 8.502820014953613, 125.2464523315432 8.511569976806641, 125.2463836669922 8.514189720153865, 125.2465286254886 8.516900062561092, 125.246421813965 8.523240089416618, 125.2462768554692 8.526209831237793, 125.2462768554692 8.529450416564941, 125.2463302612306 8.533249855041504, 125.2464981079103 8.535349845886174, 125.2465133666993 8.537850379943848, 125.2462921142579 8.540860176086483, 125.2466964721681 8.546420097351017, 125.2466735839845 8.548359870910588, 125.2465591430664 8.549909591674748, 125.2464904785156 8.553389549255371, 125.2463684082031 8.556489944457951, 125.2463531494141 8.558850288391056, 125.2465209960939 8.56138992309576, 125.2442016601563 8.58162975311285, 125.2434463500978 8.621370315551758, 125.2423095703126 8.659589767455998, 125.2857971191407 8.659890174865723, 125.3351516723637 8.660149574279842, 125.356071472168 8.660059928894157, 125.3796310424806 8.659939765930119, 125.3994903564454 8.660050392150822, 125.3998565673829 8.660050392150822, 125.4177398681645 8.660149574279842, 125.4276199340821 8.660169601440373, 125.4374923706055 8.660189628601131, 125.4418869018555 8.663260459899902, 125.4419937133789 8.663330078125, 125.4462738037109 8.66631031036377, 125.4774703979492 8.687729835510254, 125.4968872070315 8.700889587402344, 125.5114135742189 8.70020961761486, 125.5199127197266 8.70011043548584, 125.5262680053715 8.700030326843319, 125.5500793457034 8.70026969909668, 125.5693664550784 8.700240135192814, 125.6102828979492 8.700559616088981, 125.6278915405275 8.699990272522029, 125.6439971923829 8.698929786682243, 125.6498870849611 8.698800086975098, 125.6556167602539 8.698670387268123, 125.6603622436528 8.698470115661735, 125.6746520996096 8.698280334472713, 125.6642303466798 8.726819992065487, 125.6602783203125 8.738980293273926, 125.665153503418 8.745860099792537, 125.6601867675782 8.761210441589355, 125.658828735352 8.766579627990779, 125.656578063965 8.773489952087346, 125.6543273925785 8.77808952331543, 125.6504364013676 8.786299705505371, 125.641700744629 8.804719924926815, 125.6416397094729 8.804849624633789, 125.6396331787113 8.808870315551758, 125.6607437133794 8.842690467834529, 125.6659469604493 8.853249549865666, 125.6655120849614 8.852809906005859, 125.6675796508791 8.85717964172369, 125.671241760254 8.865189552307186, 125.6692733764651 8.875029563903865, 125.6681900024415 8.885620117187614, 125.6694793701174 8.901229858398494, 125.6700134277344 8.908820152282772, 125.6713562011719 8.913249969482422, 125.6755981445315 8.925519943237305, 125.6834030151369 8.948530197143668, 125.6877365112305 8.961350440979118, 125.694000244141 8.978969573974723, 125.6958770751954 8.985059738159237, 125.7203369140625 9.011830329895133, 125.7216567993167 9.016960144043026, 125.7229766845704 9.022109985351619, 125.7356185913086 9.048310279846248, 125.7362899780275 9.050020217895565, 125.7381591796877 9.054369926452637, 125.7403564453125 9.058890342712402, 125.7419204711914 9.062379837036133, 125.7439270019531 9.06764030456543, 125.746696472168 9.072970390319881, 125.7456665039064 9.077509880065975, 125.746421813965 9.081809997558651, 125.7472534179688 9.086239814758244, 125.7479934692383 9.090100288391113, 125.7494125366213 9.093449592590446, 125.7503890991215 9.096579551696721, 125.7518615722659 9.102060317993164, 125.7542266845703 9.109490394592342, 125.7550430297852 9.11295032501215, 125.7565689086914 9.118220329284782, 125.7583389282229 9.126239776611442, 125.7602615356446 9.133130073547477, 125.7633895874025 9.143899917602596, 125.7656021118165 9.152389526367244, 125.7675094604493 9.163619995117188, 125.7583312988281 9.216369628906364, 125.7581787109377 9.219220161437988, 125.7577209472656 9.223320007324219, 125.7560501098635 9.230010032653865, 125.7551879882814 9.235139846801701, 125.7736129760743 9.226140022277889, 125.7751235961916 9.217249870300293, 125.7752838134766 9.212019920349121, 125.7794113159181 9.20559024810791, 125.7835769653325 9.201089859008846, 125.7894897460942 9.194089889526367, 125.7933883666992 9.190660476684684, 125.7947235107422 9.18854999542242, 125.7942276000979 9.186940193176213, 125.8345031738286 9.144069671630859, 125.8525695800784 9.115949630737362, 125.8601913452151 9.103599548339901, 125.8692932128906 9.090319633483944, 125.8765335083011 9.072649955749455, 125.8780212402345 9.068989753723201, 125.8811798095705 9.060020446777344, 125.8825531005862 9.054599761962891, 125.8829269409182 9.05189037322998, 125.8874588012695 9.024589538574276, 125.8891067504884 9.015959739685059, 125.8896789550782 9.009510040283317, 125.8893737792971 9.004420280456543, 125.8877029418948 8.981760025024471, 125.8869476318364 8.973600387573242, 125.8871383666997 8.968449592590389, 125.8879928588867 8.960309982299862, 125.8888931274415 8.953020095825309, 125.8899230957031 8.945210456848201, 125.8899078369141 8.937979698181209, 125.8907318115237 8.925769805908317, 125.8914566040039 8.915089607238826, 125.8941726684573 8.889840126037711, 125.8980865478519 8.874429702758903, 125.9009475708011 8.868280410766658, 125.9108734130859 8.856249809265194))\n"
     ]
    }
   ],
   "source": [
    "print(province.geometry[2])"
   ]
  },
  {
   "cell_type": "markdown",
   "metadata": {},
   "source": [
    "Let's import some other datasets with different types of geometry objects.\n",
    "\n",
    "A dateset about cities in the world (adapted from http://www.naturalearthdata.com/downloads/110m-cultural-vectors/110m-populated-places/, zip file is available in the `/data` directory), consisting of Point data:"
   ]
  },
  {
   "cell_type": "code",
   "execution_count": null,
   "metadata": {},
   "outputs": [],
   "source": [
    "cities = geopandas.read_file(\"zip://./data/ne_110m_populated_places.zip\")"
   ]
  },
  {
   "cell_type": "code",
   "execution_count": null,
   "metadata": {},
   "outputs": [],
   "source": [
    "print(cities.geometry[0])"
   ]
  },
  {
   "cell_type": "markdown",
   "metadata": {},
   "source": [
    "And a dataset of rivers in the world (from http://www.naturalearthdata.com/downloads/50m-physical-vectors/50m-rivers-lake-centerlines/, zip file is available in the `/data` directory) where each river is a (multi-)line:"
   ]
  },
  {
   "cell_type": "code",
   "execution_count": null,
   "metadata": {},
   "outputs": [],
   "source": [
    "rivers = geopandas.read_file(\"zip://./data/ne_50m_rivers_lake_centerlines.zip\")"
   ]
  },
  {
   "cell_type": "code",
   "execution_count": null,
   "metadata": {},
   "outputs": [],
   "source": [
    "print(rivers.geometry[0])"
   ]
  },
  {
   "cell_type": "markdown",
   "metadata": {},
   "source": [
    "### The `shapely` library\n",
    "\n",
    "The individual geometry objects are provided by the [`shapely`](https://shapely.readthedocs.io/en/stable/) library"
   ]
  },
  {
   "cell_type": "code",
   "execution_count": 24,
   "metadata": {},
   "outputs": [
    {
     "data": {
      "text/plain": [
       "shapely.geometry.polygon.Polygon"
      ]
     },
     "execution_count": 24,
     "metadata": {},
     "output_type": "execute_result"
    }
   ],
   "source": [
    "type(province.geometry[0])"
   ]
  },
  {
   "cell_type": "markdown",
   "metadata": {},
   "source": [
    "To construct one ourselves:"
   ]
  },
  {
   "cell_type": "code",
   "execution_count": 25,
   "metadata": {},
   "outputs": [],
   "source": [
    "from shapely.geometry import Point, Polygon, LineString"
   ]
  },
  {
   "cell_type": "code",
   "execution_count": 26,
   "metadata": {},
   "outputs": [],
   "source": [
    "p = Point(1, 1)"
   ]
  },
  {
   "cell_type": "code",
   "execution_count": 27,
   "metadata": {},
   "outputs": [
    {
     "name": "stdout",
     "output_type": "stream",
     "text": [
      "POINT (1 1)\n"
     ]
    }
   ],
   "source": [
    "print(p)"
   ]
  },
  {
   "cell_type": "code",
   "execution_count": 28,
   "metadata": {},
   "outputs": [],
   "source": [
    "polygon = Polygon([(1, 1), (2,2), (2, 1)])"
   ]
  },
  {
   "cell_type": "markdown",
   "metadata": {},
   "source": [
    "<div class=\"alert alert-info\" style=\"font-size:120%\">\n",
    "<b>REMEMBER</b>: <br><br>\n",
    "\n",
    "Single geometries are represented by `shapely` objects:\n",
    "\n",
    "<ul>\n",
    "  <li>If you access a single geometry of a GeoDataFrame, you get a shapely geometry object</li>\n",
    "  <li>Those objects have similar functionality as geopandas objects (GeoDataFrame/GeoSeries). For example:\n",
    "   <ul>\n",
    "    <li>`single_shapely_object.distance(other_point)` -> distance between two points</li>\n",
    "    <li>`geodataframe.distance(other_point)` ->  distance for each point in the geodataframe to the other point</li>\n",
    "   </ul>\n",
    "  </li>\n",
    "</ul>\n",
    "</div>"
   ]
  },
  {
   "cell_type": "markdown",
   "metadata": {},
   "source": [
    "## Plotting our different layers together"
   ]
  },
  {
   "cell_type": "code",
   "execution_count": 30,
   "metadata": {},
   "outputs": [
    {
     "ename": "NameError",
     "evalue": "name 'Apps' is not defined",
     "output_type": "error",
     "traceback": [
      "\u001b[1;31m---------------------------------------------------------------------------\u001b[0m",
      "\u001b[1;31mNameError\u001b[0m                                 Traceback (most recent call last)",
      "\u001b[1;32m<ipython-input-30-54b13acbf52e>\u001b[0m in \u001b[0;36m<module>\u001b[1;34m\u001b[0m\n\u001b[0;32m      1\u001b[0m \u001b[0max\u001b[0m \u001b[1;33m=\u001b[0m \u001b[0mprovince\u001b[0m\u001b[1;33m.\u001b[0m\u001b[0mplot\u001b[0m\u001b[1;33m(\u001b[0m\u001b[0medgecolor\u001b[0m\u001b[1;33m=\u001b[0m\u001b[1;34m'k'\u001b[0m\u001b[1;33m,\u001b[0m \u001b[0mfacecolor\u001b[0m\u001b[1;33m=\u001b[0m\u001b[1;34m'none'\u001b[0m\u001b[1;33m,\u001b[0m \u001b[0mfigsize\u001b[0m\u001b[1;33m=\u001b[0m\u001b[1;33m(\u001b[0m\u001b[1;36m15\u001b[0m\u001b[1;33m,\u001b[0m \u001b[1;36m10\u001b[0m\u001b[1;33m)\u001b[0m\u001b[1;33m)\u001b[0m\u001b[1;33m\u001b[0m\u001b[1;33m\u001b[0m\u001b[0m\n\u001b[1;32m----> 2\u001b[1;33m \u001b[0mApps\u001b[0m\u001b[1;33m.\u001b[0m\u001b[0mplot\u001b[0m\u001b[1;33m(\u001b[0m\u001b[0max\u001b[0m\u001b[1;33m=\u001b[0m\u001b[0max\u001b[0m\u001b[1;33m)\u001b[0m\u001b[1;33m\u001b[0m\u001b[1;33m\u001b[0m\u001b[0m\n\u001b[0m\u001b[0;32m      3\u001b[0m \u001b[0mSigned\u001b[0m\u001b[1;33m.\u001b[0m\u001b[0mplot\u001b[0m\u001b[1;33m(\u001b[0m\u001b[0max\u001b[0m\u001b[1;33m=\u001b[0m\u001b[0max\u001b[0m\u001b[1;33m,\u001b[0m \u001b[0mcolor\u001b[0m\u001b[1;33m=\u001b[0m\u001b[1;34m'red'\u001b[0m\u001b[1;33m)\u001b[0m\u001b[1;33m\u001b[0m\u001b[1;33m\u001b[0m\u001b[0m\n\u001b[0;32m      4\u001b[0m \u001b[0max\u001b[0m\u001b[1;33m.\u001b[0m\u001b[0mset\u001b[0m\u001b[1;33m(\u001b[0m\u001b[0mxlim\u001b[0m\u001b[1;33m=\u001b[0m\u001b[1;33m(\u001b[0m\u001b[1;33m-\u001b[0m\u001b[1;36m20\u001b[0m\u001b[1;33m,\u001b[0m \u001b[1;36m60\u001b[0m\u001b[1;33m)\u001b[0m\u001b[1;33m,\u001b[0m \u001b[0mylim\u001b[0m\u001b[1;33m=\u001b[0m\u001b[1;33m(\u001b[0m\u001b[1;33m-\u001b[0m\u001b[1;36m40\u001b[0m\u001b[1;33m,\u001b[0m \u001b[1;36m40\u001b[0m\u001b[1;33m)\u001b[0m\u001b[1;33m)\u001b[0m\u001b[1;33m\u001b[0m\u001b[1;33m\u001b[0m\u001b[0m\n",
      "\u001b[1;31mNameError\u001b[0m: name 'Apps' is not defined"
     ]
    },
    {
     "data": {
      "image/png": "[encoded data removed]",
      "text/plain": [
       "<Figure size 1080x720 with 1 Axes>"
      ]
     },
     "metadata": {
      "needs_background": "light"
     },
     "output_type": "display_data"
    }
   ],
   "source": [
    "ax = province.plot(edgecolor='k', facecolor='none', figsize=(15, 10))\n",
    "Apps.plot(ax=ax)\n",
    "Signed.plot(ax=ax, color='red')\n",
    "ax.set(xlim=(-20, 60), ylim=(-40, 40))"
   ]
  },
  {
   "cell_type": "markdown",
   "metadata": {},
   "source": [
    "See the [04-more-on-visualization.ipynb](04-more-on-visualization.ipynb) notebook for more details on visualizing geospatial datasets."
   ]
  },
  {
   "cell_type": "markdown",
   "metadata": {},
   "source": [
    "## Let's practice!\n",
    "\n",
    "For the exercises, we are going to use some data of the city of Paris:\n",
    "\n",
    "- The administrative districts of Paris (https://opendata.paris.fr/explore/dataset/quartier_paris/): `paris_districts_utm.geojson`\n",
    "- Real-time (at the moment I downloaded them ..) information about the public bicycle sharing system in Paris (vélib, https://opendata.paris.fr/explore/dataset/stations-velib-disponibilites-en-temps-reel/information/): `paris_sharing_bike_stations_utm.geojson`\n",
    "\n",
    "Both datasets are provided as GeoJSON files.\n",
    "\n",
    "Let's explore those datasets:"
   ]
  },
  {
   "cell_type": "markdown",
   "metadata": {},
   "source": [
    "<div class=\"alert alert-success\">\n",
    " <b>EXERCISE</b>:\n",
    " <ul>\n",
    "  <li>Read both datasets into a GeoDataFrame called `districts` and `stations`.</li>\n",
    "  <li>Check the type of the returned objects (with `type(..)`)</li>\n",
    "  <li>Check the first rows of both dataframes. What kind of geometries do those datasets contain?</li>\n",
    " </ul> \n",
    " \n",
    "</div>"
   ]
  },
  {
   "cell_type": "code",
   "execution_count": 31,
   "metadata": {
    "clear_cell": true
   },
   "outputs": [],
   "source": [
    "# %load _solved/solutions/01-introduction-geospatial-data23.py"
   ]
  },
  {
   "cell_type": "code",
   "execution_count": 32,
   "metadata": {
    "clear_cell": true
   },
   "outputs": [],
   "source": [
    "# %load _solved/solutions/01-introduction-geospatial-data24.py"
   ]
  },
  {
   "cell_type": "code",
   "execution_count": 33,
   "metadata": {
    "clear_cell": true
   },
   "outputs": [],
   "source": [
    "# %load _solved/solutions/01-introduction-geospatial-data25.py"
   ]
  },
  {
   "cell_type": "code",
   "execution_count": 34,
   "metadata": {
    "clear_cell": true
   },
   "outputs": [],
   "source": [
    "# %load _solved/solutions/01-introduction-geospatial-data26.py"
   ]
  },
  {
   "cell_type": "markdown",
   "metadata": {},
   "source": [
    "<div class=\"alert alert-success\">\n",
    " <b>EXERCISE</b>:\n",
    " <ul>\n",
    "  <li>Make a plot of the `districts` dataset</li>\n",
    "  <li>Set the figure size to (12, 6) (hint: the `plot` method accepts a figsize keyword).</li>\n",
    " </ul> \n",
    "</div>"
   ]
  },
  {
   "cell_type": "code",
   "execution_count": 35,
   "metadata": {
    "clear_cell": true
   },
   "outputs": [],
   "source": [
    "# %load _solved/solutions/01-introduction-geospatial-data27.py"
   ]
  },
  {
   "cell_type": "markdown",
   "metadata": {},
   "source": [
    "<div class=\"alert alert-success\">\n",
    " <b>EXERCISE</b>:\n",
    " <ul>\n",
    "  <li>Make a plot of the `stations` dataset (also with a (12, 6) figsize).</li>\n",
    "  <li>Use the `'available_bikes'` colums to determine the color of the points. For this, use the `column=` keyword.</li>\n",
    "  <li>Use the `legend=True` keyword to show a color bar.</li>\n",
    " </ul> \n",
    "</div>"
   ]
  },
  {
   "cell_type": "code",
   "execution_count": 36,
   "metadata": {
    "clear_cell": true
   },
   "outputs": [],
   "source": [
    "# %load _solved/solutions/01-introduction-geospatial-data28.py"
   ]
  },
  {
   "cell_type": "markdown",
   "metadata": {},
   "source": [
    "<div class=\"alert alert-success\">\n",
    " <b>EXERCISE</b>:\n",
    " <ul>\n",
    "  <li>Visualize the `stations` and `districts` datasets together on a single plot (of 20, 10)).</li>\n",
    "  <li>Use a grey color for the `districts` dataset with an alpha of 0.5, but use black lines (tip: `edgecolor`).</li>\n",
    "  <li>You can use `ax.set_axis_off()` to remove the axis (tick)labels.</li>\n",
    " </ul>\n",
    "</div>"
   ]
  },
  {
   "cell_type": "code",
   "execution_count": null,
   "metadata": {
    "clear_cell": true
   },
   "outputs": [],
   "source": [
    "# %load _solved/solutions/01-introduction-geospatial-data29.py"
   ]
  },
  {
   "cell_type": "markdown",
   "metadata": {},
   "source": [
    "<div class=\"alert alert-success\">\n",
    " <b>EXERCISE</b>:\n",
    "  <p>\n",
    " <ul>\n",
    "  <li>What is the largest district? (the biggest area)</li>\n",
    " </ul> \n",
    "  </p>\n",
    " <details><summary>Hint</summary>You can find the location of the largest value with `.idxmax()`</details>\n",
    "</div>"
   ]
  },
  {
   "cell_type": "code",
   "execution_count": null,
   "metadata": {
    "clear_cell": true
   },
   "outputs": [],
   "source": [
    "# %load _solved/solutions/01-introduction-geospatial-data30.py"
   ]
  },
  {
   "cell_type": "code",
   "execution_count": null,
   "metadata": {
    "clear_cell": true
   },
   "outputs": [],
   "source": [
    "# %load _solved/solutions/01-introduction-geospatial-data31.py"
   ]
  },
  {
   "cell_type": "markdown",
   "metadata": {},
   "source": [
    "<div class=\"alert alert-success\">\n",
    " <b>EXERCISE</b>:\n",
    "\n",
    " <ul>\n",
    "  <li>Make a histogram showing the distribution of the number of bike stands in the stations.</li>\n",
    " </ul> \n",
    "\n",
    "</div>"
   ]
  },
  {
   "cell_type": "code",
   "execution_count": null,
   "metadata": {
    "clear_cell": true
   },
   "outputs": [],
   "source": [
    "# %load _solved/solutions/01-introduction-geospatial-data32.py"
   ]
  },
  {
   "cell_type": "markdown",
   "metadata": {},
   "source": [
    "## Coordinate reference systems\n",
    "\n",
    "A **coordinate reference system (CRS)** determines how the two-dimensional (planar) coordinates of the geometry objects should be related to actual places on the (non-planar) earth.\n",
    "\n",
    "For a nice in-depth explanation, see https://docs.qgis.org/2.8/en/docs/gentle_gis_introduction/coordinate_reference_systems.html"
   ]
  },
  {
   "cell_type": "markdown",
   "metadata": {},
   "source": [
    "A GeoDataFrame or GeoSeries has a `.crs` attribute which holds (optionally) a description of the coordinate reference system of the geometries:"
   ]
  },
  {
   "cell_type": "code",
   "execution_count": null,
   "metadata": {},
   "outputs": [],
   "source": [
    "countries.crs"
   ]
  },
  {
   "cell_type": "markdown",
   "metadata": {},
   "source": [
    "For the `countries` dataframe, it indicates that it used the EPSG 4326 / WGS84 lon/lat reference system, which is one of the most used.  \n",
    "It uses coordinates as latitude and longitude in degrees, as can you be seen from the x/y labels on the plot:"
   ]
  },
  {
   "cell_type": "code",
   "execution_count": null,
   "metadata": {},
   "outputs": [],
   "source": [
    "countries.plot()"
   ]
  },
  {
   "cell_type": "markdown",
   "metadata": {},
   "source": [
    "The `.crs` attribute is given as a dictionary. In this case, it only indicates the EPSG code, but it can also contain the full \"proj4\" string (in dictionary form). \n",
    "\n",
    "Under the hood, GeoPandas uses the `pyproj` / `proj4` libraries to deal with the re-projections.\n",
    "\n",
    "For more information, see also http://geopandas.readthedocs.io/en/latest/projections.html."
   ]
  },
  {
   "cell_type": "markdown",
   "metadata": {},
   "source": [
    "---\n",
    "\n",
    "There are sometimes good reasons you want to change the coordinate references system of your dataset, for example:\n",
    "\n",
    "- different sources with different crs -> need to convert to the same crs\n",
    "- distance-based operations -> if you a crs that has meter units (not degrees)\n",
    "- plotting in a certain crs (eg to preserve area)\n",
    "\n",
    "We can convert a GeoDataFrame to another reference system using the `to_crs` function. \n",
    "\n",
    "For example, let's convert the countries to the World Mercator projection (http://epsg.io/3395):"
   ]
  },
  {
   "cell_type": "code",
   "execution_count": null,
   "metadata": {},
   "outputs": [],
   "source": [
    "# remove Antartica, as the Mercator projection cannot deal with the poles\n",
    "countries = countries[(countries['name'] != \"Antarctica\")]"
   ]
  },
  {
   "cell_type": "code",
   "execution_count": null,
   "metadata": {},
   "outputs": [],
   "source": [
    "countries_mercator = countries.to_crs(epsg=3395)  # or .to_crs({'init': 'epsg:3395'})"
   ]
  },
  {
   "cell_type": "code",
   "execution_count": null,
   "metadata": {},
   "outputs": [],
   "source": [
    "countries_mercator.plot()"
   ]
  },
  {
   "cell_type": "markdown",
   "metadata": {},
   "source": [
    "Note the different scale of x and y."
   ]
  },
  {
   "cell_type": "markdown",
   "metadata": {},
   "source": [
    "## A bit more on importing and creating GeoDataFrames"
   ]
  },
  {
   "cell_type": "markdown",
   "metadata": {},
   "source": [
    "### Note on `fiona`\n",
    "\n",
    "Under the hood, GeoPandas uses the [Fiona library](http://toblerity.org/fiona/) (pythonic interface to GDAL/OGR) to read and write data. GeoPandas provides a more user-friendly wrapper, which is sufficient for most use cases. But sometimes you want more control, and in that case, to read a file with fiona you can do the following:\n"
   ]
  },
  {
   "cell_type": "code",
   "execution_count": null,
   "metadata": {},
   "outputs": [],
   "source": [
    "import fiona\n",
    "from shapely.geometry import shape\n",
    "\n",
    "with fiona.drivers():\n",
    "    with fiona.open(\"data/ne_110m_admin_0_countries/ne_110m_admin_0_countries.shp\") as collection:\n",
    "        for feature in collection:\n",
    "            # ... do something with geometry\n",
    "            geom = shape(feature['geometry'])\n",
    "            # ... do something with properties\n",
    "            print(feature['properties']['name'])"
   ]
  },
  {
   "cell_type": "markdown",
   "metadata": {},
   "source": [
    "### Constructing a GeoDataFrame manually"
   ]
  },
  {
   "cell_type": "code",
   "execution_count": null,
   "metadata": {},
   "outputs": [],
   "source": [
    "geopandas.GeoDataFrame({\n",
    "    'geometry': [Point(1, 1), Point(2, 2)],\n",
    "    'attribute1': [1, 2],\n",
    "    'attribute2': [0.1, 0.2]})"
   ]
  },
  {
   "cell_type": "markdown",
   "metadata": {},
   "source": [
    "### Creating a GeoDataFrame from an existing dataframe\n",
    "\n",
    "For example, if you have lat/lon coordinates in two columns:"
   ]
  },
  {
   "cell_type": "code",
   "execution_count": null,
   "metadata": {},
   "outputs": [],
   "source": [
    "df = pd.DataFrame(\n",
    "    {'City': ['Buenos Aires', 'Brasilia', 'Santiago', 'Bogota', 'Caracas'],\n",
    "     'Country': ['Argentina', 'Brazil', 'Chile', 'Colombia', 'Venezuela'],\n",
    "     'Latitude': [-34.58, -15.78, -33.45, 4.60, 10.48],\n",
    "     'Longitude': [-58.66, -47.91, -70.66, -74.08, -66.86]})"
   ]
  },
  {
   "cell_type": "code",
   "execution_count": null,
   "metadata": {},
   "outputs": [],
   "source": [
    "df['Coordinates']  = list(zip(df.Longitude, df.Latitude))"
   ]
  },
  {
   "cell_type": "code",
   "execution_count": null,
   "metadata": {},
   "outputs": [],
   "source": [
    "df['Coordinates'] = df['Coordinates'].apply(Point)"
   ]
  },
  {
   "cell_type": "code",
   "execution_count": null,
   "metadata": {},
   "outputs": [],
   "source": [
    "gdf = geopandas.GeoDataFrame(df, geometry='Coordinates')"
   ]
  },
  {
   "cell_type": "code",
   "execution_count": null,
   "metadata": {},
   "outputs": [],
   "source": [
    "gdf"
   ]
  },
  {
   "cell_type": "markdown",
   "metadata": {},
   "source": [
    "See http://geopandas.readthedocs.io/en/latest/gallery/create_geopandas_from_pandas.html#sphx-glr-gallery-create-geopandas-from-pandas-py for full example"
   ]
  }
 ],
 "metadata": {
  "kernelspec": {
   "display_name": "Python 3",
   "language": "python",
   "name": "python3"
  },
  "language_info": {
   "codemirror_mode": {
    "name": "ipython",
    "version": 3
   },
   "file_extension": ".py",
   "mimetype": "text/x-python",
   "name": "python",
   "nbconvert_exporter": "python",
   "pygments_lexer": "ipython3",
   "version": "3.7.3"
  }
 },
 "nbformat": 4,
 "nbformat_minor": 2
}
